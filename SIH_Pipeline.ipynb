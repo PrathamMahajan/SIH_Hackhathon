{
  "nbformat": 4,
  "nbformat_minor": 0,
  "metadata": {
    "colab": {
      "provenance": [],
      "authorship_tag": "ABX9TyN2rIIXUR9Hjnls8g9sJkt9",
      "include_colab_link": true
    },
    "kernelspec": {
      "name": "python3",
      "display_name": "Python 3"
    },
    "language_info": {
      "name": "python"
    }
  },
  "cells": [
    {
      "cell_type": "markdown",
      "metadata": {
        "id": "view-in-github",
        "colab_type": "text"
      },
      "source": [
        "<a href=\"https://colab.research.google.com/github/PrathamMahajan/SIH_Hackhathon/blob/main/SIH_Pipeline.ipynb\" target=\"_parent\"><img src=\"https://colab.research.google.com/assets/colab-badge.svg\" alt=\"Open In Colab\"/></a>"
      ]
    },
    {
      "cell_type": "code",
      "source": [
        "import pickle\n",
        "import pandas as pd\n",
        "import numpy as np\n",
        "import pickle\n",
        "from sklearn.feature_extraction.text import TfidfVectorizer\n",
        "from sklearn.linear_model import LogisticRegression\n",
        "import nltk\n",
        "nltk.download('punkt')\n",
        "from nltk.tokenize import word_tokenize\n",
        "from transformers import AutoModelForSequenceClassification\n",
        "from transformers import TFAutoModelForSequenceClassification\n",
        "from transformers import AutoTokenizer, AutoConfig\n",
        "from transformers import pipeline"
      ],
      "metadata": {
        "colab": {
          "base_uri": "https://localhost:8080/"
        },
        "id": "LccEf3aMENT8",
        "outputId": "d5842089-b771-4987-ae7a-cae140659c15"
      },
      "execution_count": null,
      "outputs": [
        {
          "output_type": "stream",
          "name": "stderr",
          "text": [
            "[nltk_data] Downloading package punkt to /root/nltk_data...\n",
            "[nltk_data]   Package punkt is already up-to-date!\n"
          ]
        }
      ]
    },
    {
      "cell_type": "code",
      "execution_count": null,
      "metadata": {
        "colab": {
          "base_uri": "https://localhost:8080/"
        },
        "id": "k4fS8jkFCqM6",
        "outputId": "78b8dd6a-e2f8-4c4e-acb8-9729e3953cb4"
      },
      "outputs": [
        {
          "output_type": "stream",
          "name": "stdout",
          "text": [
            "Predicted Category: Men Footwear\n"
          ]
        }
      ],
      "source": [
        "# Load the classifier and TF-IDF vectorizer from the pickle file\n",
        "with open('product_classifier.pkl', 'rb') as file:\n",
        "    classifier, tfidf_vectorizer = pickle.load(file)\n",
        "\n",
        "# Function to classify user-provided input\n",
        "def classify_product_description(input_text):\n",
        "    input_text = ' '.join(word_tokenize(input_text.lower()))\n",
        "    input_vector = tfidf_vectorizer.transform([input_text])\n",
        "    predicted_class = classifier.predict(input_vector)\n",
        "    return predicted_class[0]\n",
        "\n",
        "# Example usage\n",
        "user_input = \"Shoes are nice\"\n",
        "predicted_category = classify_product_description(user_input)\n",
        "print(f\"Predicted Category: {predicted_category}\")"
      ]
    },
    {
      "cell_type": "markdown",
      "source": [
        "**PIPELINE BUILDING**"
      ],
      "metadata": {
        "id": "cKlNk3ZmJ-S3"
      }
    },
    {
      "cell_type": "code",
      "source": [
        "def combined_pipeline(input_text):\n",
        "    # Classify the product category\n",
        "    product_category = classify_product_description(input_text)\n",
        "\n",
        "    # Perform sentiment analysis\n",
        "    sentiment_task = pipeline(\"sentiment-analysis\")\n",
        "    sentiment_result = sentiment_task(input_text)\n",
        "\n",
        "    return {\n",
        "        \"Product Category\": product_category,\n",
        "        \"Sentiment\": sentiment_result[0]['label']\n",
        "    }"
      ],
      "metadata": {
        "id": "JWYWGIYaKCsG"
      },
      "execution_count": null,
      "outputs": []
    },
    {
      "cell_type": "code",
      "source": [
        "comment = combined_pipeline(\"Burger is very tasty\")"
      ],
      "metadata": {
        "colab": {
          "base_uri": "https://localhost:8080/"
        },
        "id": "rIhfBNa7KplC",
        "outputId": "358d52ab-3242-48fb-bce6-ecc1451a2120"
      },
      "execution_count": null,
      "outputs": [
        {
          "output_type": "stream",
          "name": "stderr",
          "text": [
            "No model was supplied, defaulted to distilbert-base-uncased-finetuned-sst-2-english and revision af0f99b (https://huggingface.co/distilbert-base-uncased-finetuned-sst-2-english).\n",
            "Using a pipeline without specifying a model name and revision in production is not recommended.\n"
          ]
        }
      ]
    },
    {
      "cell_type": "code",
      "source": [
        "comment"
      ],
      "metadata": {
        "colab": {
          "base_uri": "https://localhost:8080/"
        },
        "id": "_-UF0i7DKwIF",
        "outputId": "e4d47acf-403b-4cec-ab45-c7e05b785d77"
      },
      "execution_count": null,
      "outputs": [
        {
          "output_type": "execute_result",
          "data": {
            "text/plain": [
              "{'Product Category': 'Digital Camera and Camcorder Accessories',\n",
              " 'Sentiment': 'POSITIVE'}"
            ]
          },
          "metadata": {},
          "execution_count": 63
        }
      ]
    },
    {
      "cell_type": "code",
      "source": [],
      "metadata": {
        "id": "NuscU5M5MzuO"
      },
      "execution_count": null,
      "outputs": []
    }
  ]
}