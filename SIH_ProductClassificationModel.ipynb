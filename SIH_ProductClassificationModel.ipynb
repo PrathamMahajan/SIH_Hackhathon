{
 "cells": [
  {
   "cell_type": "code",
   "execution_count": 1,
   "id": "671e2004",
   "metadata": {},
   "outputs": [
    {
     "name": "stderr",
     "output_type": "stream",
     "text": [
      "[nltk_data] Downloading package punkt to\n",
      "[nltk_data]     C:\\Users\\prath\\AppData\\Roaming\\nltk_data...\n",
      "[nltk_data]   Package punkt is already up-to-date!\n"
     ]
    }
   ],
   "source": [
    "import pandas as pd\n",
    "import numpy as np\n",
    "from sklearn.model_selection import train_test_split\n",
    "from sklearn.feature_extraction.text import TfidfVectorizer\n",
    "from sklearn.linear_model import LogisticRegression\n",
    "from sklearn.metrics import classification_report, accuracy_score\n",
    "import nltk\n",
    "nltk.download('punkt')  # Uncomment and run this line if you haven't downloaded the NLTK data\n",
    "from nltk.tokenize import word_tokenize"
   ]
  },
  {
   "cell_type": "code",
   "execution_count": 2,
   "id": "ccbf1bdf",
   "metadata": {},
   "outputs": [],
   "source": [
    "# Load your dataset into a DataFrame\n",
    "df = pd.read_csv(\"D:/SIH/shopmania.csv\")"
   ]
  },
  {
   "cell_type": "code",
   "execution_count": 3,
   "id": "eb56ab8b",
   "metadata": {},
   "outputs": [
    {
     "data": {
      "text/html": [
       "<div>\n",
       "<style scoped>\n",
       "    .dataframe tbody tr th:only-of-type {\n",
       "        vertical-align: middle;\n",
       "    }\n",
       "\n",
       "    .dataframe tbody tr th {\n",
       "        vertical-align: top;\n",
       "    }\n",
       "\n",
       "    .dataframe thead th {\n",
       "        text-align: right;\n",
       "    }\n",
       "</style>\n",
       "<table border=\"1\" class=\"dataframe\">\n",
       "  <thead>\n",
       "    <tr style=\"text-align: right;\">\n",
       "      <th></th>\n",
       "      <th>Description</th>\n",
       "      <th>Category</th>\n",
       "    </tr>\n",
       "  </thead>\n",
       "  <tbody>\n",
       "    <tr>\n",
       "      <th>0</th>\n",
       "      <td>boston red sox for men by boston red sox eau d...</td>\n",
       "      <td>Collectibles</td>\n",
       "    </tr>\n",
       "    <tr>\n",
       "      <th>1</th>\n",
       "      <td>twilight central park print</td>\n",
       "      <td>Collectibles</td>\n",
       "    </tr>\n",
       "    <tr>\n",
       "      <th>2</th>\n",
       "      <td>fox print</td>\n",
       "      <td>Collectibles</td>\n",
       "    </tr>\n",
       "    <tr>\n",
       "      <th>3</th>\n",
       "      <td>circulo de papel wall art</td>\n",
       "      <td>Collectibles</td>\n",
       "    </tr>\n",
       "    <tr>\n",
       "      <th>4</th>\n",
       "      <td>hidden path print</td>\n",
       "      <td>Collectibles</td>\n",
       "    </tr>\n",
       "    <tr>\n",
       "      <th>...</th>\n",
       "      <td>...</td>\n",
       "      <td>...</td>\n",
       "    </tr>\n",
       "    <tr>\n",
       "      <th>313701</th>\n",
       "      <td>swimming full face anti fog mask surface divin...</td>\n",
       "      <td>Water Sports</td>\n",
       "    </tr>\n",
       "    <tr>\n",
       "      <th>313702</th>\n",
       "      <td>deago anti fog swimming diving full face mask ...</td>\n",
       "      <td>Water Sports</td>\n",
       "    </tr>\n",
       "    <tr>\n",
       "      <th>313703</th>\n",
       "      <td>etc buys full face gopro compatible snorkel sc...</td>\n",
       "      <td>Water Sports</td>\n",
       "    </tr>\n",
       "    <tr>\n",
       "      <th>313704</th>\n",
       "      <td>men 039 s full face breathe free diving snorke...</td>\n",
       "      <td>Water Sports</td>\n",
       "    </tr>\n",
       "    <tr>\n",
       "      <th>313705</th>\n",
       "      <td>women 039 s full face breathe free diving snor...</td>\n",
       "      <td>Water Sports</td>\n",
       "    </tr>\n",
       "  </tbody>\n",
       "</table>\n",
       "<p>313706 rows × 2 columns</p>\n",
       "</div>"
      ],
      "text/plain": [
       "                                              Description      Category\n",
       "0       boston red sox for men by boston red sox eau d...  Collectibles\n",
       "1                             twilight central park print  Collectibles\n",
       "2                                               fox print  Collectibles\n",
       "3                               circulo de papel wall art  Collectibles\n",
       "4                                       hidden path print  Collectibles\n",
       "...                                                   ...           ...\n",
       "313701  swimming full face anti fog mask surface divin...  Water Sports\n",
       "313702  deago anti fog swimming diving full face mask ...  Water Sports\n",
       "313703  etc buys full face gopro compatible snorkel sc...  Water Sports\n",
       "313704  men 039 s full face breathe free diving snorke...  Water Sports\n",
       "313705  women 039 s full face breathe free diving snor...  Water Sports\n",
       "\n",
       "[313706 rows x 2 columns]"
      ]
     },
     "execution_count": 3,
     "metadata": {},
     "output_type": "execute_result"
    }
   ],
   "source": [
    "df"
   ]
  },
  {
   "cell_type": "code",
   "execution_count": 6,
   "id": "79106e2d",
   "metadata": {},
   "outputs": [],
   "source": [
    "# Tokenize the descriptions\n",
    "df['Description'] = df['Description'].apply(lambda x: ' '.join(word_tokenize(x.lower())))"
   ]
  },
  {
   "cell_type": "code",
   "execution_count": 7,
   "id": "606232c7",
   "metadata": {},
   "outputs": [],
   "source": [
    "# Split the dataset into training and testing sets\n",
    "X_train, X_test, y_train, y_test = train_test_split(df['Description'], df['Category'], test_size=0.2, random_state=42)"
   ]
  },
  {
   "cell_type": "code",
   "execution_count": 8,
   "id": "f93568df",
   "metadata": {},
   "outputs": [],
   "source": [
    "tfidf_vectorizer = TfidfVectorizer(max_features=5000)  # You can adjust the max_features parameter as needed\n",
    "X_train_tfidf = tfidf_vectorizer.fit_transform(X_train)\n",
    "X_test_tfidf = tfidf_vectorizer.transform(X_test)"
   ]
  },
  {
   "cell_type": "code",
   "execution_count": 9,
   "id": "d5f987fe",
   "metadata": {},
   "outputs": [
    {
     "data": {
      "text/plain": [
       "LogisticRegression(max_iter=1000)"
      ]
     },
     "execution_count": 9,
     "metadata": {},
     "output_type": "execute_result"
    }
   ],
   "source": [
    "classifier = LogisticRegression(max_iter=1000)\n",
    "classifier.fit(X_train_tfidf, y_train)"
   ]
  },
  {
   "cell_type": "code",
   "execution_count": 10,
   "id": "7eee865b",
   "metadata": {},
   "outputs": [
    {
     "name": "stderr",
     "output_type": "stream",
     "text": [
      "C:\\Users\\prath\\anaconda3\\lib\\site-packages\\sklearn\\metrics\\_classification.py:1318: UndefinedMetricWarning: Precision and F-score are ill-defined and being set to 0.0 in labels with no predicted samples. Use `zero_division` parameter to control this behavior.\n",
      "  _warn_prf(average, modifier, msg_start, len(result))\n",
      "C:\\Users\\prath\\anaconda3\\lib\\site-packages\\sklearn\\metrics\\_classification.py:1318: UndefinedMetricWarning: Precision and F-score are ill-defined and being set to 0.0 in labels with no predicted samples. Use `zero_division` parameter to control this behavior.\n",
      "  _warn_prf(average, modifier, msg_start, len(result))\n"
     ]
    },
    {
     "name": "stdout",
     "output_type": "stream",
     "text": [
      "Accuracy: 0.901086991170189\n",
      "Classification Report:\n",
      "                                           precision    recall  f1-score   support\n",
      "\n",
      "                 3D Multimedia Equipment       0.00      0.00      0.00         1\n",
      "                                   Adult       0.92      0.96      0.94      2063\n",
      "           Air Compressors & Accessories       1.00      1.00      1.00         3\n",
      "                        Air Conditioners       0.00      0.00      0.00         7\n",
      "                        Alcoholic Drinks       0.00      0.00      0.00         4\n",
      "                             All-In-Ones       0.00      0.00      0.00         4\n",
      "                    Audio / DJ Equipment       0.80      0.50      0.62        64\n",
      "                 Audio / Video Equipment       0.00      0.00      0.00         1\n",
      "                        Auto Accessories       1.00      0.20      0.33         5\n",
      "                 Baby & Children Apparel       0.70      0.53      0.60       413\n",
      "                               Baby gear       0.62      0.37      0.46       241\n",
      "                        Bags & Backpacks       0.92      0.94      0.93       554\n",
      "                     Baseball & Softball       0.00      0.00      0.00         2\n",
      "                              Basketball       1.00      0.86      0.93        22\n",
      "                             Bath & Body       0.81      0.83      0.82       833\n",
      "                               Batteries       0.93      0.91      0.92       221\n",
      "                                   Belts       1.00      0.98      0.99      2074\n",
      "                     Bikes & Accessories       0.83      0.92      0.87        26\n",
      "                             Board Games       1.00      0.52      0.69        23\n",
      "                     Boats & Accessories       0.80      0.34      0.48        47\n",
      "                                   Books       0.79      0.29      0.43        89\n",
      "                   Boxing & Martial Arts       0.00      0.00      0.00        10\n",
      "                       Building supplies       0.86      0.92      0.89       443\n",
      "                       Cables & Adapters       0.00      0.00      0.00         7\n",
      "                             Calculators       0.00      0.00      0.00         2\n",
      "                                 Camping       0.87      0.82      0.84       633\n",
      "                Cases and Power Supplies       0.67      0.59      0.62        17\n",
      "                 Cell Phones Accessories       0.97      0.99      0.98      2046\n",
      "                          Chest Freezers       0.00      0.00      0.00         2\n",
      "           Christmas Items & Decorations       0.81      0.72      0.76        85\n",
      "                       Cleaning Supplies       0.87      0.93      0.90      1698\n",
      "                                Climbing       0.00      0.00      0.00         1\n",
      "                Coffee Makers & Grinders       0.67      0.17      0.27        12\n",
      "                            Collectibles       0.94      0.94      0.94       777\n",
      "                             Consumables       0.97      0.97      0.97       804\n",
      "                                  Crafts       0.86      0.88      0.87      1949\n",
      "                   DVD & Blu-Ray Players       1.00      0.80      0.89         5\n",
      "                                    DVDs       1.00      0.12      0.21        17\n",
      "                                   Darts       0.00      0.00      0.00         1\n",
      "                           Dehumidifiers       0.00      0.00      0.00         2\n",
      "                                Desktops       0.93      0.97      0.95        29\n",
      "Digital Camera and Camcorder Accessories       0.68      0.62      0.65       486\n",
      "                  Digital Picture Frames       0.00      0.00      0.00         2\n",
      "      Electrical & Electronic components       0.86      0.68      0.76       136\n",
      "            Esoteric and Occult Products       0.00      0.00      0.00         4\n",
      "                         External Memory       0.00      0.00      0.00         7\n",
      "                                    Fans       0.93      0.89      0.91       174\n",
      "                                 Feeding       1.00      0.37      0.54        52\n",
      "                                 Fishing       0.97      0.61      0.75        62\n",
      "                                 Fitness       0.88      0.80      0.84       173\n",
      "                                 Flowers       0.82      0.32      0.46        28\n",
      "                                    Food       0.83      0.89      0.86      1263\n",
      "                   Food Grinders & Mills       0.00      0.00      0.00         1\n",
      "                           Food Steamers       0.00      0.00      0.00         5\n",
      "                                Football       0.90      0.94      0.92      1956\n",
      "                               Fragrance       0.99      1.00      1.00      1403\n",
      "                               Furniture       0.88      0.94      0.91      1964\n",
      "                         GPS Accessories       0.00      0.00      0.00         3\n",
      "                           GPS Receivers       0.00      0.00      0.00         7\n",
      "                                  Gadget       0.00      0.00      0.00         2\n",
      "                                   Games       0.00      0.00      0.00         2\n",
      "                      Gaming Accessories       0.83      0.45      0.59        11\n",
      "                       Garden & Outdoors       0.84      0.87      0.85       978\n",
      "                                    Golf       0.92      0.92      0.92       333\n",
      "                               Hair Care       0.00      0.00      0.00         5\n",
      "                      Handbags & Wallets       0.98      0.98      0.98      2032\n",
      "                         Hats and gloves       0.89      0.93      0.91      1796\n",
      "                              Headphones       0.85      0.79      0.82       178\n",
      "                         Health & Safety       0.87      0.61      0.72        75\n",
      "                                 Heaters       0.82      0.84      0.83        69\n",
      "                             Home Cinema       0.00      0.00      0.00         1\n",
      "                              Home Decor       0.88      0.90      0.89       648\n",
      "                      Home Entertainment       0.00      0.00      0.00         1\n",
      "                        Home Improvement       0.79      0.36      0.49       149\n",
      "                                Homewear       1.00      0.69      0.82        13\n",
      "                                    Hubs       0.50      0.50      0.50         2\n",
      "                             Humidifiers       0.80      0.62      0.70        13\n",
      "                                 Hunting       0.76      0.89      0.82      1940\n",
      "                         Industrial Gear       0.98      0.97      0.97       135\n",
      "                                   Irons       0.78      0.58      0.67        12\n",
      "                                 Jewelry       0.95      0.94      0.95      1962\n",
      "                                 Juicers       0.00      0.00      0.00         6\n",
      "                        Keyboards & Mice       0.48      0.54      0.51        24\n",
      "                        Kitchen & Dining       0.85      0.93      0.89      1989\n",
      "                                Lighting       0.74      0.76      0.75       178\n",
      "          MP3 and MP4 Player Accessories       0.00      0.00      0.00         4\n",
      "                               Magazines       1.00      0.91      0.95        11\n",
      "                      Make-up & Costumes       0.91      0.78      0.84        64\n",
      "                       Maternity Apparel       0.99      1.00      0.99        66\n",
      "                Measuring & Layout Tools       0.00      0.00      0.00         1\n",
      "                        Medical Supplies       0.80      0.86      0.83      1995\n",
      "                                Medicine       0.87      0.85      0.86       646\n",
      "                           Men Cosmetics       0.83      0.71      0.77        35\n",
      "                            Men Footwear       0.90      0.57      0.70        65\n",
      "                            Men Lingerie       0.99      0.99      0.99      1956\n",
      "                          Men's Clothing       0.95      0.94      0.94      2006\n",
      "                             Microphones       0.00      0.00      0.00         3\n",
      "                              Microwaves       0.00      0.00      0.00         1\n",
      "                       Mixers & blenders       1.00      0.47      0.64        15\n",
      "                        Moto Accessories       0.97      0.97      0.97        35\n",
      "                              Motorcycle       0.90      0.82      0.86        11\n",
      "                                   Music       0.00      0.00      0.00         6\n",
      "                     Musical Instruments       0.94      0.69      0.80        48\n",
      "                     Network Accessories       0.87      0.79      0.83        61\n",
      "                        Network Adapters       0.00      0.00      0.00         1\n",
      "                    Non-alcoholic drinks       0.88      0.79      0.83       297\n",
      "                    Notebook Accessories       0.86      0.62      0.72        58\n",
      "                        Office Equipment       0.93      0.93      0.93       381\n",
      "                         Office Supplies       0.90      0.93      0.91      1970\n",
      "                         Office software       0.00      0.00      0.00         1\n",
      "                       Operating systems       1.00      0.33      0.50         3\n",
      "           Optical Supplies & Eyeglasses       0.00      0.00      0.00         1\n",
      "                           Optical Tools       0.80      0.71      0.75       245\n",
      "                       Other Accessories       1.00      0.22      0.36         9\n",
      "                Other Kitchen Appliances       0.00      0.00      0.00         2\n",
      "                  Other Small Appliances       0.00      0.00      0.00        14\n",
      "                            Other Sports       0.00      0.00      0.00         4\n",
      "                             Other gifts       0.00      0.00      0.00         4\n",
      "                          Other software       1.00      0.81      0.89        21\n",
      "                         PDA Accessories       0.00      0.00      0.00         2\n",
      "                     Paintball & Airsoft       0.00      0.00      0.00         9\n",
      "                          Party Supplies       0.88      0.78      0.83       117\n",
      "                           Personal Care       0.82      0.69      0.75       483\n",
      "                              Pet Supply       0.96      0.93      0.94      2053\n",
      "                                    Pets       1.00      0.43      0.60         7\n",
      "                    Plumbing Accessories       0.00      0.00      0.00         1\n",
      "                       Plumbing Supplies       0.76      0.67      0.71       152\n",
      "                             Power Tools       0.90      0.90      0.90      1149\n",
      "                     Printer Accessories       0.00      0.00      0.00         4\n",
      "                              Projectors       0.71      0.62      0.67        16\n",
      "                           Refrigerators       1.00      1.00      1.00         1\n",
      "                      Remote controllers       1.00      0.50      0.67         4\n",
      "                                 Routers       0.44      0.27      0.33        15\n",
      "                 Rugs  Tapestry & Linens       0.97      0.97      0.97      1959\n",
      "                                     SSD       0.00      0.00      0.00         6\n",
      "                             Safety Gear       0.89      0.87      0.88       278\n",
      "                       Scarves and wraps       0.95      1.00      0.97      1980\n",
      "                                Security       0.74      0.46      0.57        37\n",
      "                                 Servers       0.00      0.00      0.00         1\n",
      "                 Skateboarding & Skating       0.00      0.00      0.00         4\n",
      "                            Smartwatches       0.60      0.43      0.50         7\n",
      "                      Snowboarding & Ski       0.98      0.97      0.98      1628\n",
      "              Solar Panels & Accessories       0.00      0.00      0.00         2\n",
      "                                Speakers       0.96      0.80      0.87       154\n",
      "                     Stoves & Fireplaces       0.79      0.65      0.71        51\n",
      "                              Sunglasses       0.95      0.86      0.90       813\n",
      "                                Supplies       1.00      0.20      0.33         5\n",
      "                                Supports       0.00      0.00      0.00         4\n",
      "                      Sweets & Chocolate       0.75      0.65      0.70       159\n",
      "                      System Accessories       0.00      0.00      0.00         1\n",
      "                      Tablet Accessories       0.00      0.00      0.00         3\n",
      "              Toasters & Sandwich Makers       0.00      0.00      0.00         3\n",
      "                                   Tools       0.77      0.70      0.73       662\n",
      "                                    Toys       0.80      0.82      0.81       778\n",
      "                                     UPS       0.00      0.00      0.00         3\n",
      "                         Vacuum Cleaners       0.97      0.61      0.75        62\n",
      "                Various Natural Products       0.91      0.80      0.85        25\n",
      "                  Vitamins & Supplements       0.87      0.87      0.87      1461\n",
      "                              Volleyball       0.00      0.00      0.00         1\n",
      "                                 Watches       0.98      0.95      0.96       428\n",
      "                            Water Sports       1.00      1.00      1.00         1\n",
      "             Wedding and Bridal Articles       1.00      0.82      0.90        22\n",
      "                     Wireless Networking       0.64      0.58      0.61        12\n",
      "                         Women Cosmetics       0.88      0.42      0.57        52\n",
      "                          Women Footwear       0.75      0.47      0.58        64\n",
      "                        Women's Clothing       0.90      0.89      0.89      2047\n",
      "                        Women's Lingerie       0.98      0.98      0.98       459\n",
      "\n",
      "                                accuracy                           0.90     62742\n",
      "                               macro avg       0.60      0.50      0.54     62742\n",
      "                            weighted avg       0.90      0.90      0.90     62742\n",
      "\n"
     ]
    },
    {
     "name": "stderr",
     "output_type": "stream",
     "text": [
      "C:\\Users\\prath\\anaconda3\\lib\\site-packages\\sklearn\\metrics\\_classification.py:1318: UndefinedMetricWarning: Precision and F-score are ill-defined and being set to 0.0 in labels with no predicted samples. Use `zero_division` parameter to control this behavior.\n",
      "  _warn_prf(average, modifier, msg_start, len(result))\n"
     ]
    }
   ],
   "source": [
    "# Make predictions on the test set\n",
    "y_pred = classifier.predict(X_test_tfidf)\n",
    "\n",
    "# Calculate accuracy and print the classification report\n",
    "accuracy = accuracy_score(y_test, y_pred)\n",
    "classification_rep = classification_report(y_test, y_pred)\n",
    "\n",
    "print(f\"Accuracy: {accuracy}\")\n",
    "print(\"Classification Report:\\n\", classification_rep)"
   ]
  },
  {
   "cell_type": "code",
   "execution_count": 21,
   "id": "a5a027fb",
   "metadata": {},
   "outputs": [
    {
     "name": "stdout",
     "output_type": "stream",
     "text": [
      "Predicted Category: Men Footwear\n"
     ]
    }
   ],
   "source": [
    "# Function to classify user-provided input\n",
    "def classify_product_description(input_text):\n",
    "    input_text = ' '.join(word_tokenize(input_text.lower()))\n",
    "    input_vector = tfidf_vectorizer.transform([input_text])\n",
    "    predicted_class = classifier.predict(input_vector)\n",
    "    return predicted_class[0]\n",
    "\n",
    "# Example usage\n",
    "user_input = \"Nike shoes are nice\"\n",
    "predicted_category = classify_product_description(user_input)\n",
    "print(f\"Predicted Category: {predicted_category}\")"
   ]
  },
  {
   "cell_type": "code",
   "execution_count": 23,
   "id": "ad089627",
   "metadata": {},
   "outputs": [],
   "source": [
    "import pickle"
   ]
  },
  {
   "cell_type": "code",
   "execution_count": 24,
   "id": "324a6224",
   "metadata": {},
   "outputs": [],
   "source": [
    "with open('product_classifier.pkl', 'wb') as file:\n",
    "    pickle.dump((classifier, tfidf_vectorizer), file)"
   ]
  },
  {
   "cell_type": "markdown",
   "id": "6ec55b67",
   "metadata": {},
   "source": [
    "### Combining"
   ]
  },
  {
   "cell_type": "code",
   "execution_count": 3,
   "id": "376e1b99",
   "metadata": {},
   "outputs": [],
   "source": [
    "from nltk.tokenize import word_tokenize\n",
    "from transformers import AutoModelForSequenceClassification\n",
    "from transformers import TFAutoModelForSequenceClassification\n",
    "from transformers import AutoTokenizer, AutoConfig\n",
    "from transformers import pipeline\n",
    "import pickle"
   ]
  },
  {
   "cell_type": "code",
   "execution_count": 4,
   "id": "93de3ada",
   "metadata": {},
   "outputs": [],
   "source": [
    "with open('product_classifier.pkl', 'rb') as file:\n",
    "    classifier, tfidf_vectorizer = pickle.load(file)\n",
    "\n",
    "# Function to classify user-provided input\n",
    "def classify_product_description(input_text):\n",
    "    input_text = ' '.join(word_tokenize(input_text.lower()))\n",
    "    input_vector = tfidf_vectorizer.transform([input_text])\n",
    "    predicted_class = classifier.predict(input_vector)\n",
    "    return predicted_class[0]"
   ]
  },
  {
   "cell_type": "code",
   "execution_count": 5,
   "id": "47b1d287",
   "metadata": {},
   "outputs": [],
   "source": [
    "def combined_pipeline(input_text):\n",
    "    # Classify the product category\n",
    "    product_category = classify_product_description(input_text)\n",
    "\n",
    "    # Perform sentiment analysis\n",
    "    sentiment_task = pipeline(\"sentiment-analysis\")\n",
    "    sentiment_result = sentiment_task(input_text)\n",
    "\n",
    "    return {\n",
    "        \"Product Category\": product_category,\n",
    "        \"Sentiment\": sentiment_result[0]['label']\n",
    "    }"
   ]
  },
  {
   "cell_type": "code",
   "execution_count": 25,
   "id": "b44ed50e",
   "metadata": {},
   "outputs": [
    {
     "name": "stderr",
     "output_type": "stream",
     "text": [
      "No model was supplied, defaulted to distilbert-base-uncased-finetuned-sst-2-english and revision af0f99b (https://huggingface.co/distilbert-base-uncased-finetuned-sst-2-english).\n",
      "Using a pipeline without specifying a model name and revision in production is not recommended.\n"
     ]
    }
   ],
   "source": [
    "comment = combined_pipeline(\"Apple Iphone is the best\")"
   ]
  },
  {
   "cell_type": "code",
   "execution_count": 26,
   "id": "a87fd496",
   "metadata": {},
   "outputs": [
    {
     "data": {
      "text/plain": [
       "{'Product Category': 'Cell Phones Accessories', 'Sentiment': 'POSITIVE'}"
      ]
     },
     "execution_count": 26,
     "metadata": {},
     "output_type": "execute_result"
    }
   ],
   "source": [
    "comment"
   ]
  }
 ],
 "metadata": {
  "kernelspec": {
   "display_name": "Python 3 (ipykernel)",
   "language": "python",
   "name": "python3"
  },
  "language_info": {
   "codemirror_mode": {
    "name": "ipython",
    "version": 3
   },
   "file_extension": ".py",
   "mimetype": "text/x-python",
   "name": "python",
   "nbconvert_exporter": "python",
   "pygments_lexer": "ipython3",
   "version": "3.9.13"
  }
 },
 "nbformat": 4,
 "nbformat_minor": 5
}
